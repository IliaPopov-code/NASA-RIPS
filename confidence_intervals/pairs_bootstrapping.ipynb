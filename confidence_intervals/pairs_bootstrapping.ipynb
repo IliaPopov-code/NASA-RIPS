{
 "cells": [
  {
   "cell_type": "markdown",
   "id": "5f50e9fb-e09e-47d4-af40-692c866b732e",
   "metadata": {
    "jp-MarkdownHeadingCollapsed": true
   },
   "source": [
    "# Imports"
   ]
  },
  {
   "cell_type": "code",
   "execution_count": null,
   "id": "5cf4310b-55e6-41cd-bbc8-1c5dfba974dc",
   "metadata": {},
   "outputs": [],
   "source": [
    "import xarray as xr\n",
    "import pandas as pd\n",
    "from keras.models import load_model\n",
    "import numpy as np\n",
    "import matplotlib.pyplot as plt"
   ]
  },
  {
   "cell_type": "markdown",
   "id": "9fcc936f-3f84-4f95-8c5e-a52f4a150b28",
   "metadata": {
    "jp-MarkdownHeadingCollapsed": true
   },
   "source": [
    "# Read in Pre-trained Models"
   ]
  },
  {
   "cell_type": "code",
   "execution_count": null,
   "id": "313ce3c4-6e8c-43d5-a4d8-3fffa3fab464",
   "metadata": {},
   "outputs": [],
   "source": [
    "# NEED TO INSERT FILEPATHS TO LOAD MODEL\n",
    "model0 = load_model(\"\", compile=False)\n",
    "model1 = load_model(\"\", compile=False)\n",
    "model2 = load_model(\"\", compile=False)\n",
    "model3 = load_model(\"\", compile=False)\n",
    "model4 = load_model(\"\", compile=False)\n",
    "model5 = load_model(\"\", compile=False)\n",
    "model6 = load_model(\"\", compile=False)\n",
    "model7 = load_model(\"\", compile=False)\n",
    "model8 = load_model(\"\", compile=False)\n",
    "model9 = load_model(\"\", compile=False)\n",
    "modelbase = load_model(\"\", compile=False)"
   ]
  },
  {
   "cell_type": "markdown",
   "id": "ebaa9107-2658-4737-a8ac-ac4f66796b41",
   "metadata": {
    "jp-MarkdownHeadingCollapsed": true
   },
   "source": [
    "# Process Data"
   ]
  },
  {
   "cell_type": "code",
   "execution_count": null,
   "id": "6cc1218a-026d-4ec4-bc62-62eda487cffc",
   "metadata": {},
   "outputs": [],
   "source": [
    "### Process the data\n",
    "\n",
    "batch_size = 61440\n",
    "\n",
    "US_LOCS = {\"lat1\": 25, \n",
    "           \"lat2\": 50,\n",
    "           \"lon1\": -150,\n",
    "           \"lon2\": -50}\n",
    "COORDS = {\"US\": US_LOCS}\n",
    "\n",
    "MEANS = [243.9, 0.6, 6.3, 0.013, 0.0002, 5.04, 21.8, 0.002, 9.75e-7, 7.87e-6]\n",
    "STDS = [30.3, 0.42, 16.1, 7.9, 0.05, 20.6, 20.8, 0.0036, 7.09e-6, 2.7e-5]\n",
    "SURF_VARS = ['AIRD', 'KM', 'RI', 'QV']\n",
    "\n",
    "def standardize(ds, s, m):\n",
    "    assert len(list(ds.data_vars)) == len(m)\n",
    "\n",
    "    # data_vars are ['T', 'AIRD', 'U', 'V', 'W', 'KM', \"RI', 'QV', 'QI', 'QL']\n",
    "    for i, var in  enumerate(ds.data_vars):  \n",
    "        ds[var] = (ds[var] - m[i])/s[i]\n",
    "\n",
    "    return ds"
   ]
  },
  {
   "cell_type": "code",
   "execution_count": null,
   "id": "04c730cd-0814-4bd4-a580-ecd983684e35",
   "metadata": {},
   "outputs": [],
   "source": [
    "file_path = \"\" # INSERT FILEPATH FOR G5NR DATA\n",
    "global_data = xr.open_mfdataset(file_path)\n",
    "global_data = global_data.where(global_data['lev'] != 0, drop=True)\n",
    "global_data = global_data.sel(lat=slice(COORDS[\"US\"][\"lat1\"], COORDS[\"US\"][\"lat2\"]), \n",
    "                              lon=slice(COORDS[\"US\"][\"lon1\"], COORDS[\"US\"][\"lon2\"]))\n",
    "\n",
    "times = [\"\"] # INSERT DESIRED TIMESTAMP IN A LIST[STR] FORMAT\n",
    "\n",
    "data_in = global_data.sel(time = times)\n",
    "data_in = data_in[['T', 'AIRD', 'U', 'V', 'W', 'KM', 'RI', 'QV', 'QI', 'QL']]\n",
    "data_in = xr.map_blocks(standardize, data_in, kwargs = {\"m\":MEANS, \"s\": STDS}, template = data_in)\n",
    "data_in = data_in # this is a DataSet\n",
    "\n",
    "data_out = global_data.sel(time = times)\n",
    "data_out = data_out['Wstd'] # this is a DataArray\n",
    "\n",
    "Xall = data_in\n",
    "yall = data_out\n",
    "levs = Xall.coords['lev'].values\n",
    "\n",
    "for var in SURF_VARS:\n",
    "    Xs = Xall[var].sel(lev = [71]) # 1 level above surface\n",
    "    Xsfc = Xs\n",
    "    \n",
    "    for lev in range(len(levs)-1):\n",
    "        Xsfc = xr.concat([Xsfc, Xs], dim='lev')\n",
    "        \n",
    "    Xsfc = Xsfc.assign_coords(lev=levs)\n",
    "    Xall[f\"{var}_sfc\"] = Xsfc\n",
    "\n",
    "Xall =  Xall.unify_chunks()\n",
    "Xall = Xall.to_array()\n",
    "Xall = Xall.stack( s = ('time', 'lat', 'lon', 'lev')) \n",
    "Xall = Xall.rename({\"variable\":\"ft\"})                       \n",
    "Xall = Xall.squeeze()\n",
    "Xall = Xall.transpose()\n",
    "Xall = Xall.chunk({\"ft\":14, \"s\": batch_size})\n",
    "\n",
    "yall = yall.stack(s = ('time', 'lat', 'lon', 'lev' ))\n",
    "yall =  yall.squeeze()\n",
    "yall =  yall.transpose()   \n",
    "yall =  yall.chunk({\"s\": batch_size})\n",
    "\n",
    "X = Xall.load()\n",
    "\n",
    "y_hat0 = model0.predict(Xall, batch_size = 2048)\n",
    "y_hat1 = model1.predict(Xall, batch_size = 2048)\n",
    "y_hat2 = model2.predict(Xall, batch_size = 2048)\n",
    "y_hat3 = model3.predict(Xall, batch_size = 2048)\n",
    "y_hat4 = model4.predict(Xall, batch_size = 2048)\n",
    "y_hat5 = model5.predict(Xall, batch_size = 2048)\n",
    "y_hat6 = model6.predict(Xall, batch_size = 2048)\n",
    "y_hat7 = model7.predict(Xall, batch_size = 2048)\n",
    "y_hat8 = model8.predict(Xall, batch_size = 2048)\n",
    "y_hat9 = model9.predict(Xall, batch_size = 2048)\n",
    "y_hat = modelbase.predict(Xall)"
   ]
  },
  {
   "cell_type": "markdown",
   "id": "28a92daa-6cb5-4100-83c7-0387f4ef394f",
   "metadata": {},
   "source": [
    "## Prepare Confidence Intervals"
   ]
  },
  {
   "cell_type": "code",
   "execution_count": null,
   "id": "a71064a3-cb74-4699-b079-d0b88042e090",
   "metadata": {},
   "outputs": [],
   "source": [
    "### Prepare the data!\n",
    "\n",
    "predictions = [y_hat0, y_hat1, y_hat2, y_hat3, y_hat4, y_hat5, y_hat6, y_hat7, y_hat8, y_hat9]\n",
    "predictions_stacked = np.stack(predictions)\n",
    "\n",
    "lb = np.percentile(predictions_stacked,0, axis=0)\n",
    "ub = np.percentile(predictions_stacked, 100, axis=0)\n",
    "lb = lb.squeeze()\n",
    "ub = ub.squeeze()\n",
    "\n",
    "y = yall.values.reshape((738072, 1))\n",
    "y = y.squeeze()\n",
    "\n",
    "mask = (y >= lb) & (y <= ub)\n",
    "proportion_between = np.sum(mask) / len(y)\n",
    "print(\"Coverage Rate of Confidence Interval\", proportion_between)\n",
    "sorted_indices = np.argsort(y)\n",
    "\n",
    "sorted_lb = lb[sorted_indices]\n",
    "sorted_ub = ub[sorted_indices]\n",
    "sorted_y = y[sorted_indices]\n",
    "\n",
    "# normalize\n",
    "sorted_lb = sorted_lb/sorted_y\n",
    "sorted_ub = sorted_ub/sorted_y\n",
    "sorted_y = sorted_y/sorted_y\n",
    "\n",
    "sorted_y = sorted_y.squeeze()\n",
    "sorted_lb = sorted_lb.squeeze()\n",
    "sorted_ub = sorted_ub.squeeze()"
   ]
  },
  {
   "cell_type": "markdown",
   "id": "d7c00343-2ee9-452d-a417-f7683b9c0751",
   "metadata": {
    "jp-MarkdownHeadingCollapsed": true
   },
   "source": [
    "# Plot Data"
   ]
  },
  {
   "cell_type": "code",
   "execution_count": null,
   "id": "786bbbeb-0567-44dc-ad49-73fe43f2c1da",
   "metadata": {},
   "outputs": [],
   "source": [
    "axis_font = 17\n",
    "label_font = 15\n",
    "legend_font = 16\n",
    "title_font = 18"
   ]
  },
  {
   "cell_type": "code",
   "execution_count": null,
   "id": "16d906f5-e390-42a4-8b8b-2a1cb28bba16",
   "metadata": {},
   "outputs": [],
   "source": [
    "# Set x-axis for the plot\n",
    "x = np.arange(len(sorted_y))\n",
    "\n",
    "# Create the plot\n",
    "plt.figure(figsize=(10, 7))\n",
    "plt.plot(x, sorted_y, label=r'G5NR', color='magenta', linewidth=4)\n",
    "plt.fill_between(x, sorted_lb, sorted_ub, color='skyblue', alpha=1, label='CI')\n",
    "\n",
    "# Add labels and legend\n",
    "plt.xlabel(\"Sorted and Normalized $\\sigma_W$\", fontsize=axis_font)\n",
    "plt.ylabel(r'$\\sigma_W$ Values (m/s)', fontsize=axis_font)\n",
    "plt.tick_params(axis='both', which='major', labelsize=label_font)\n",
    "title = \"Confidence Interval for Wnet-prior (US, 1 timestamp)\" \n",
    "plt.title(title, fontsize=title_font)\n",
    "plt.legend(fontsize = legend_font)\n",
    "# plt.savefig(\"CI_normalized.png\", dpi=300)\n",
    "plt.show()"
   ]
  },
  {
   "cell_type": "markdown",
   "id": "30569cb4-1f3a-47e4-9362-cc3a381da5c9",
   "metadata": {},
   "source": [
    "## Plotting Miscoverage"
   ]
  },
  {
   "cell_type": "code",
   "execution_count": null,
   "id": "dd12f945-8eb4-41ed-9d2b-37ccf3d69c8e",
   "metadata": {},
   "outputs": [],
   "source": [
    "# Create a boolean mask where y is not greater than or equal to lb and less than or equal to ub\n",
    "mask_not_between = (sorted_y < sorted_lb) | (sorted_y > sorted_ub)\n",
    "\n",
    "# Use np.where to find the indices where the condition is True\n",
    "indices_not_between = np.where(mask_not_between)[0]"
   ]
  },
  {
   "cell_type": "code",
   "execution_count": null,
   "id": "986b6ff8-1e49-4d95-88eb-ab2f1e9e2e8e",
   "metadata": {},
   "outputs": [],
   "source": [
    "filtered_y = sorted_y[indices_not_between][-500:]\n",
    "filtered_lb = sorted_lb[indices_not_between][-500:]\n",
    "filtered_ub = sorted_ub[indices_not_between][-500:]\n",
    "\n",
    "x = np.arange(len(filtered_y))\n",
    "\n",
    "# Create the plot\n",
    "plt.figure(figsize=(10, 7))\n",
    "plt.plot(x, filtered_y, label='G5NR', color='magenta', linewidth=4)\n",
    "plt.fill_between(x, filtered_lb, filtered_ub, color='skyblue', alpha=1, label='CI')\n",
    "plt.tick_params(axis='both', which='major', labelsize=label_font)\n",
    "# Add labels and legend\n",
    "plt.xlabel(r'Sorted and Normalized $\\sigma_W$', fontsize=axis_font)\n",
    "plt.ylabel(r'$\\sigma_W$ Values (m/s)', fontsize=axis_font)\n",
    "\n",
    "title = r\"Misclassified Observations - Large $\\sigma_W$\"\n",
    "plt.title(title, fontsize = title_font)\n",
    "plt.legend(fontsize = legend_font)\n",
    "# plt.savefig(\"CI_large.png\", dpi=300)\n",
    "plt.show()"
   ]
  },
  {
   "cell_type": "code",
   "execution_count": null,
   "id": "609b224f-09f1-43c6-8849-03f4d74823ce",
   "metadata": {},
   "outputs": [],
   "source": [
    "filtered_y = sorted_y[indices_not_between][:500]\n",
    "filtered_lb = sorted_lb[indices_not_between][:500]\n",
    "filtered_ub = sorted_ub[indices_not_between][:500]\n",
    "\n",
    "x = np.arange(len(filtered_y))\n",
    "\n",
    "# Create the plot\n",
    "plt.figure(figsize=(10, 7))\n",
    "plt.plot(x, filtered_y, label='G5NR', color='magenta', linewidth=4)\n",
    "plt.fill_between(x, filtered_lb, filtered_ub, color='skyblue', alpha=1, label='CI')\n",
    "plt.tick_params(axis='both', which='major', labelsize=label_font)\n",
    "# Add labels and legend\n",
    "plt.xlabel(r'Sorted and Normalized $\\sigma_W$', fontsize=axis_font)\n",
    "plt.ylabel(r'$\\sigma_W$ Values (m/s)', fontsize=axis_font)\n",
    "\n",
    "title = r\"Misclassified Observations - Small $\\sigma_W$\"\n",
    "plt.title(title, fontsize=title_font)\n",
    "plt.legend(fontsize =legend_font)\n",
    "# plt.savefig(\"CI_small.png\", dpi=300)\n",
    "plt.show()"
   ]
  }
 ],
 "metadata": {
  "kernelspec": {
   "display_name": "Python (Goddard)",
   "language": "python",
   "name": "goddard"
  },
  "language_info": {
   "codemirror_mode": {
    "name": "ipython",
    "version": 3
   },
   "file_extension": ".py",
   "mimetype": "text/x-python",
   "name": "python",
   "nbconvert_exporter": "python",
   "pygments_lexer": "ipython3",
   "version": "3.8.15"
  }
 },
 "nbformat": 4,
 "nbformat_minor": 5
}
